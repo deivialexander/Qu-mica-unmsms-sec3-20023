{
  "nbformat": 4,
  "nbformat_minor": 0,
  "metadata": {
    "colab": {
      "provenance": [],
      "include_colab_link": true
    },
    "kernelspec": {
      "name": "python3",
      "display_name": "Python 3"
    },
    "language_info": {
      "name": "python"
    },
    "widgets": {
      "application/vnd.jupyter.widget-state+json": {
        "d4691835f4474884829213796343340f": {
          "model_module": "faerun-notebook",
          "model_name": "SmilesDrawerModel",
          "model_module_version": "^0.1.5",
          "state": {
            "_dom_classes": [],
            "_model_module": "faerun-notebook",
            "_model_module_version": "^0.1.5",
            "_model_name": "SmilesDrawerModel",
            "_view_count": null,
            "_view_module": "faerun-notebook",
            "_view_module_version": "^0.1.5",
            "_view_name": "SmilesDrawerView",
            "background": "#1e1e1e",
            "border": true,
            "layout": "IPY_MODEL_35b7ce94b6e84d4c985918e50984dcd7",
            "options": {
              "scale": 1.25
            },
            "output": "svg",
            "theme": "dark",
            "value": [
              [
                "Rxn",
                "C(C1C(C(C(C(O1)O)O)O)O)O.O=O>>C(=O)=O.O"
              ]
            ]
          }
        },
        "35b7ce94b6e84d4c985918e50984dcd7": {
          "model_module": "@jupyter-widgets/base",
          "model_name": "LayoutModel",
          "model_module_version": "1.2.0",
          "state": {
            "_model_module": "@jupyter-widgets/base",
            "_model_module_version": "1.2.0",
            "_model_name": "LayoutModel",
            "_view_count": null,
            "_view_module": "@jupyter-widgets/base",
            "_view_module_version": "1.2.0",
            "_view_name": "LayoutView",
            "align_content": null,
            "align_items": null,
            "align_self": null,
            "border": null,
            "bottom": null,
            "display": null,
            "flex": null,
            "flex_flow": null,
            "grid_area": null,
            "grid_auto_columns": null,
            "grid_auto_flow": null,
            "grid_auto_rows": null,
            "grid_column": null,
            "grid_gap": null,
            "grid_row": null,
            "grid_template_areas": null,
            "grid_template_columns": null,
            "grid_template_rows": null,
            "height": null,
            "justify_content": null,
            "justify_items": null,
            "left": null,
            "margin": null,
            "max_height": null,
            "max_width": null,
            "min_height": null,
            "min_width": null,
            "object_fit": null,
            "object_position": null,
            "order": null,
            "overflow": null,
            "overflow_x": null,
            "overflow_y": null,
            "padding": null,
            "right": null,
            "top": null,
            "visibility": null,
            "width": null
          }
        }
      }
    }
  },
  "cells": [
    {
      "cell_type": "markdown",
      "metadata": {
        "id": "view-in-github",
        "colab_type": "text"
      },
      "source": [
        "<a href=\"https://colab.research.google.com/github/deivialexander/Qu-mica-unmsms-sec3-20023/blob/main/Copia_de_PC_1_Quimica_UNMSM.ipynb\" target=\"_parent\"><img src=\"https://colab.research.google.com/assets/colab-badge.svg\" alt=\"Open In Colab\"/></a>"
      ]
    },
    {
      "cell_type": "markdown",
      "source": [
        "$$\\Large \\textit{UNMSM | Química}$$\n",
        "$$\\large \\textbf{PC Nº1 | Materia y clasificación}$$\n",
        "\n",
        "_Profesor: Jesus Alvarado Huayhuaz_"
      ],
      "metadata": {
        "id": "sDJAjbaQOj4x"
      }
    },
    {
      "cell_type": "markdown",
      "source": [
        "Todas las indicaciones para la presentación de la práctica son explicadas en clase y brindadas en el material de enunciado de preguntas en formato PDF."
      ],
      "metadata": {
        "id": "_DsTzWLoP7Fy"
      }
    },
    {
      "cell_type": "markdown",
      "source": [
        "## Pregunta 1: Sobre el ABC de python (4 puntos)"
      ],
      "metadata": {
        "id": "obD7c2igOD6t"
      }
    },
    {
      "cell_type": "markdown",
      "source": [
        "Durante la semana de revisión del material \"ABC de python\", reflexiona sobre qué conceptos aprendiste con claridad y cuáles consideras los más desafiantes. A continuación resuelve los siguiente ejercicios, puedes ayudarte del material en http://bit.ly/3YKICSZ."
      ],
      "metadata": {
        "id": "emt93S7dL7QH"
      }
    },
    {
      "cell_type": "code",
      "source": [
        "# Imprime la versión de python que usas y las palabras reservadas de python para esa versión."
      ],
      "metadata": {
        "id": "6mJvqMN0LTU8"
      },
      "execution_count": null,
      "outputs": []
    },
    {
      "cell_type": "code",
      "source": [
        "!python --version"
      ],
      "metadata": {
        "id": "HWbPO-8-9lV4",
        "outputId": "2568a8b9-f67c-486c-ed30-6c202962d74d",
        "colab": {
          "base_uri": "https://localhost:8080/"
        }
      },
      "execution_count": null,
      "outputs": [
        {
          "output_type": "stream",
          "name": "stdout",
          "text": [
            "Python 3.10.12\n"
          ]
        }
      ]
    },
    {
      "cell_type": "code",
      "source": [
        "# Crea una matriz de 3x3 e imprime la suma de los elementos en su diagonal (traza)."
      ],
      "metadata": {
        "id": "MxDzGypdLTXh"
      },
      "execution_count": null,
      "outputs": []
    },
    {
      "cell_type": "code",
      "source": [
        "matriz = [\n",
        "         [1, 2, 3],\n",
        "         [4, 1, 6],\n",
        "         [7, 8, 1]\n",
        "]\n",
        "\n",
        "suma_diagonal = matriz[0][0] + matriz[1][1] + matriz[2][2]\n",
        "\n",
        "print(\"La suma es: \", suma_diagonal)"
      ],
      "metadata": {
        "id": "B17XB5YA8jaJ",
        "outputId": "13433357-99a0-43d0-f791-3368372c3d24",
        "colab": {
          "base_uri": "https://localhost:8080/"
        }
      },
      "execution_count": null,
      "outputs": [
        {
          "output_type": "stream",
          "name": "stdout",
          "text": [
            "La suma es:  3\n"
          ]
        }
      ]
    },
    {
      "cell_type": "code",
      "source": [
        "# Guarda como variable la masa atómica de los elementos C, H y O, e imprime la masa molecular del etanol."
      ],
      "metadata": {
        "id": "MyhNX7JmLTSe"
      },
      "execution_count": null,
      "outputs": []
    },
    {
      "cell_type": "code",
      "source": [
        "mA_H = 1\n",
        "mA_C = 12\n",
        "mA_O = 16\n",
        "\n",
        "mM_Etanol = (2*mA_C)+(6*mA_H)+(1*mA_O)\n",
        "\n",
        "print(\"La masa molecular del Etanol es: \", mM_Etanol)"
      ],
      "metadata": {
        "id": "O8ZyENWZ87eR",
        "outputId": "5ad16a45-4c0d-4766-e502-b329bf702831",
        "colab": {
          "base_uri": "https://localhost:8080/"
        }
      },
      "execution_count": null,
      "outputs": [
        {
          "output_type": "stream",
          "name": "stdout",
          "text": [
            "La masa molecular del Etanol es:  46\n"
          ]
        }
      ]
    },
    {
      "cell_type": "code",
      "source": [
        "# Busca la temperatura de fusión en Celsius de 5 metales y guárdalos en una lista. Imprime las temperaturas en Kelvin"
      ],
      "metadata": {
        "id": "NCOnJ0FwgLLc"
      },
      "execution_count": null,
      "outputs": []
    },
    {
      "cell_type": "code",
      "source": [
        "temp_Celsius_Metales = [1538, 650, 1064.18, 961.780, 660.32]\n",
        "\n",
        "def celsius_a_kelvin(celsius): return celsius + 273.15\n",
        "\n",
        "temp_kelvin_Metales = [celsius_a_kelvin(temp) for temp in temp_Celsius_Metales]\n",
        "\n",
        "print(\"Temperaturas de Fusión de Hierro, Magnesio, Oro, Plata y Aluminio, respectivamente, en Celsius: \",temp_Celsius_Metales)\n",
        "print(\"Temperaturas de Fusión de Hierro, Magnesio, Oro, Plata y Aluminio, respectivamente, en kelvin: \",temp_kelvin_Metales)"
      ],
      "metadata": {
        "id": "9sHRcf719Ax4",
        "outputId": "dbf62581-7560-4421-cdff-edaa9645e7df",
        "colab": {
          "base_uri": "https://localhost:8080/"
        }
      },
      "execution_count": null,
      "outputs": [
        {
          "output_type": "stream",
          "name": "stdout",
          "text": [
            "Temperaturas de Fusión de Hierro, Magnesio, Oro, Plata y Aluminio, respectivamente, en Celsius:  [1538, 650, 1064.18, 961.78, 660.32]\n",
            "Temperaturas de Fusión de Hierro, Magnesio, Oro, Plata y Aluminio, respectivamente, en kelvin:  [1811.15, 923.15, 1337.33, 1234.9299999999998, 933.47]\n"
          ]
        }
      ]
    },
    {
      "cell_type": "markdown",
      "source": [
        "## Pregunta 2: Operaciones (4 puntos)"
      ],
      "metadata": {
        "id": "epzOadagLfPi"
      }
    },
    {
      "cell_type": "markdown",
      "source": [
        "Escribe un programa que lea repetidamente elementos químicos en español hasta que el usuario introduzca “fin”. Una vez se haya introducido “fin”, muestra por pantalla (o sea imprime) el total de elementos ingresados. Si el usuario introduce cualquier otra cosa que no sea un elemento químico, detecta su fallo usando try y except, muestra un mensaje de error y pasa al siguiente elemento."
      ],
      "metadata": {
        "id": "MbAEOGPsjOWZ"
      }
    },
    {
      "cell_type": "code",
      "source": [
        "e_q_ingresados = []\n",
        "t_elementos = 0\n",
        "\n",
        "while True:\n",
        "\n",
        "  ingresar = input('Introduzca Elementos Químicos existentes, para finalizar escriba \"fin\": ')\n",
        "\n",
        "  if ingresar.lower() == \"fin\":\n",
        "    break\n",
        "\n",
        "  try:\n",
        "      e_q_conocidos=[\"hidrógeno\", \"helio\", \"litio\", \"berilio\", \"boro\", \"carbono\", \"nitrógeno\", \"oxígeno\", \"flúor\", \"neón\", \"sodio\", \"magnesio\", \"aluminio\", \"silicio\", \"fósforo\", \"azufre\", \"cloro\",\n",
        "                     \"argón\", \"potasio\", \"calcio\", \"escandio\", \"titanio\", \"vanadio\", \"cromo\", \"manganeso\", \"hierro\", \"cobalto\", \"níquel\", \"cobre\", \"zinc\", \"galio\", \"germanio\", \"arsénico\", \"selenio\",\n",
        "                     \"bromo\", \"kriptón\", \"rubidio\", \"estroncio\", \"itrio\", \"circonio\", \"niobio\", \"molibdeno\", \"tecnecio\", \"rutenio\", \"rodio\", \"paladio\", \"plata\", \"cadmio\", \"indio\", \"estaño\", \"antimonio\",\n",
        "                     \"telurio\", \"yodo\", \"xenón\", \"cesio\", \"bario\", \"lantano\", \"cerio\", \"praseodimio\", \"neodimio\", \"prometio\", \"samario\", \"europio\", \"gadolinio\", \"terbio\", \"disprosio\", \"holmio\", \"erbio\",\n",
        "                     \"tulio\", \"iterbio\", \"lutecio\", \"hafnio\", \"tántalo\", \"wolframio\", \"renio\", \"osmio\", \"iridio\", \"platino\", \"oro\", \"mercurio\", \"talio\", \"plomo\", \"bismuto\", \"polonio\", \"ástato\", \"radón\",\n",
        "                     \"francio\", \"radio\", \"actinio\", \"torio\", \"protactinio\", \"uranio\", \"neptunio\", \"plutonio\", \"americio\", \"curio\", \"berkelio\", \"californio\", \"einstenio\", \"fermio\", \"mendelevio\", \"nobelio\",\n",
        "                     \"lawrencio\", \"rutherfordio\", \"dubnio\", \"seaborgio\", \"bohrio\", \"hassio\", \"meitnerio\", \"darmstatio\", \"roentgenio\", \"copernicio\", \"nihonio\", \"flerovio\", \"moscovio\", \"Livermorio\", \"tennessino\", \"oganessón\"]\n",
        "\n",
        "      if ingresar.lower() in e_q_conocidos:\n",
        "          e_q_ingresados.append(ingresar)\n",
        "          t_elementos += 1\n",
        "      else:\n",
        "        raise ValueError(\"No es un Elemento Químico\")\n",
        "\n",
        "  except ValueError as e:\n",
        "    print('Error : ', e)\n",
        "\n",
        "print(\"\\nTotal de elementos quimicos registrados: \", t_elementos)"
      ],
      "metadata": {
        "id": "EYXXVlqC9IyA",
        "outputId": "43ba811d-722d-44ab-ce30-599598b62dca",
        "colab": {
          "base_uri": "https://localhost:8080/"
        }
      },
      "execution_count": null,
      "outputs": [
        {
          "output_type": "stream",
          "name": "stdout",
          "text": [
            "Introduzca Elementos Químicos existentes, para finalizar escriba \"fin\": radio\n",
            "Introduzca Elementos Químicos existentes, para finalizar escriba \"fin\": berilio\n",
            "Introduzca Elementos Químicos existentes, para finalizar escriba \"fin\": fin\n",
            "\n",
            "Total de elementos quimicos registrados:  2\n"
          ]
        }
      ]
    },
    {
      "cell_type": "markdown",
      "source": [
        "# Pregunta 3: Conservación de la masa (4 puntos)"
      ],
      "metadata": {
        "id": "8gxSHpD3LZsh"
      }
    },
    {
      "cell_type": "markdown",
      "source": [
        "### Código necesario para generar la imagen"
      ],
      "metadata": {
        "id": "mMV9c3hDl7KL"
      }
    },
    {
      "cell_type": "code",
      "source": [
        "!pip install faerun-notebook==0.1.5b0\n",
        "\n",
        "import ipywidgets as widgets\n",
        "from faerun_notebook import SmilesDrawer\n",
        "from google.colab import output\n",
        "output.enable_custom_widget_manager()"
      ],
      "metadata": {
        "id": "JgF8Ohtbky65"
      },
      "execution_count": null,
      "outputs": []
    },
    {
      "cell_type": "markdown",
      "source": [
        "### Reacción química"
      ],
      "metadata": {
        "id": "5sLC10D_oSrV"
      }
    },
    {
      "cell_type": "markdown",
      "source": [
        "Demuestra cómo se cumple la conservación de la masa en la siguiente reacción química. Sugerencia: hacer un balance estequiométrico y luego emplear la masa molecular de reactivos y productos."
      ],
      "metadata": {
        "id": "OVRhAzaVmD86"
      }
    },
    {
      "cell_type": "code",
      "source": [
        "SmilesDrawer(value=[(\"Rxn\", \"C(C1C(C(C(C(O1)O)O)O)O)O.O=O>>C(=O)=O.O\")], theme='dark', background=\"#1e1e1e\", options={'scale': 1.25})"
      ],
      "metadata": {
        "colab": {
          "base_uri": "https://localhost:8080/",
          "height": 289,
          "referenced_widgets": [
            "d4691835f4474884829213796343340f",
            "35b7ce94b6e84d4c985918e50984dcd7"
          ]
        },
        "id": "CC0mAXWmnYyN",
        "outputId": "fb9a2a33-11fa-47cd-bffe-ce9c285db1d8"
      },
      "execution_count": null,
      "outputs": [
        {
          "output_type": "display_data",
          "data": {
            "text/plain": [
              "SmilesDrawer(background='#1e1e1e', options={'scale': 1.25}, theme='dark', value=[('Rxn', 'C(C1C(C(C(C(O1)O)O)O…"
            ],
            "application/vnd.jupyter.widget-view+json": {
              "version_major": 2,
              "version_minor": 0,
              "model_id": "d4691835f4474884829213796343340f"
            }
          },
          "metadata": {
            "application/vnd.jupyter.widget-view+json": {
              "colab": {
                "custom_widget_manager": {
                  "url": "https://ssl.gstatic.com/colaboratory-static/widgets/colab-cdn-widget-manager/b3e629b1971e1542/manager.min.js"
                }
              }
            }
          }
        }
      ]
    },
    {
      "cell_type": "markdown",
      "source": [
        "## Pregunta 4: Notación científica (4 puntos)"
      ],
      "metadata": {
        "id": "Rh-nAUiKhJNB"
      }
    },
    {
      "cell_type": "markdown",
      "source": [
        "Imprime las siguientes operaciones según la notación científica:\n",
        "\n",
        "(1) $1.321 \\times 10^{-4} + 8.5 \\times 10^{-2}$\n",
        "\n",
        "(2) $1.71 \\times 10^{3} - 2.01 \\times 10^{2}\\$\n",
        "\n",
        "(3) $(7.4 \\times 10^5)(7.2 \\times 10^4)$\n",
        "\n",
        "(4) $(7.4 \\times 10^5)/(7.2 \\times 10^4)$"
      ],
      "metadata": {
        "id": "NIkI45Xdqqnt"
      }
    },
    {
      "cell_type": "markdown",
      "source": [
        "## Pregunta 5: Método científico (4 puntos)"
      ],
      "metadata": {
        "id": "CuzCcXJghR14"
      }
    },
    {
      "cell_type": "markdown",
      "source": [
        "El artículo se refiere al proceso científico utilizado para investigar y determinar que el material LK-99 no es un superconductor a temperatura ambiente, a pesar de las afirmaciones iniciales. Los científicos emplearon métodos rigurosos para desentrañar las propiedades reales de LK-99 y descubrieron que no cumplía con las características de un superconductor. A continuación, se presenta un resumen del enfoque científico utilizado en el artículo:\n",
        "\n",
        "Hipótesis Inicial y Reclamaciones : El equipo liderado por Sukbae Lee y Ji-Hoon Kim afirmó que LK-99 era un superconductor a temperatura ambiente. Esta afirmación desafió las expectativas convencionales de los superconductores que solo operan en condiciones de baja temperatura y alta presión.\n",
        "\n",
        "Replicación y Verificación : Otros investigadores intentaron replicar los resultados iniciales, pero no lograron encontrar evidencia sólida de superconductividad. Estos intentos iniciales no proporcionarán resultados concluyentes.\n",
        "\n",
        "Evidencia Contradictoria : Varios equipos de investigación independientes."
      ],
      "metadata": {
        "id": "UfIF2HVT8KrR"
      }
    },
    {
      "cell_type": "markdown",
      "source": [
        "Artículo: https://bit.ly/3surZ1W\n",
        "Leer el siguiente artículo y explica cómo es aplicado el método científico. Emplea como máximo 300 palabras."
      ],
      "metadata": {
        "id": "WngRSR-Rhmx1"
      }
    }
  ]
}